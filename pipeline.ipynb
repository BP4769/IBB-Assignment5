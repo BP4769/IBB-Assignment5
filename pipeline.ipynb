{
 "cells": [
  {
   "cell_type": "code",
   "execution_count": 5,
   "metadata": {},
   "outputs": [
    {
     "ename": "ModuleNotFoundError",
     "evalue": "No module named 'GetFeatures'",
     "output_type": "error",
     "traceback": [
      "\u001b[0;31m---------------------------------------------------------------------------\u001b[0m",
      "\u001b[0;31mModuleNotFoundError\u001b[0m                       Traceback (most recent call last)",
      "Cell \u001b[0;32mIn[5], line 8\u001b[0m\n\u001b[1;32m      6\u001b[0m \u001b[39mfrom\u001b[39;00m \u001b[39mYOLO\u001b[39;00m\u001b[39m.\u001b[39;00m\u001b[39myolo\u001b[39;00m \u001b[39mimport\u001b[39;00m yolo_all\n\u001b[1;32m      7\u001b[0m \u001b[39mfrom\u001b[39;00m \u001b[39mLBP\u001b[39;00m \u001b[39mimport\u001b[39;00m \u001b[39m*\u001b[39m\n\u001b[0;32m----> 8\u001b[0m \u001b[39mfrom\u001b[39;00m \u001b[39mGetFeatures\u001b[39;00m \u001b[39mimport\u001b[39;00m get_features\n\u001b[1;32m      9\u001b[0m \u001b[39mfrom\u001b[39;00m \u001b[39mGetDistance\u001b[39;00m \u001b[39mimport\u001b[39;00m get_distance_mtx\n\u001b[1;32m     10\u001b[0m \u001b[39mfrom\u001b[39;00m \u001b[39mGetScore\u001b[39;00m \u001b[39mimport\u001b[39;00m get_scores\n",
      "\u001b[0;31mModuleNotFoundError\u001b[0m: No module named 'GetFeatures'"
     ]
    }
   ],
   "source": [
    "import cv2 as cv2\n",
    "import numpy as np\n",
    "import os\n",
    "import matplotlib.pyplot as plt\n",
    "import pandas as pd\n",
    "from YOLO.yolo import yolo_all\n",
    "from LBP.LBP import *\n",
    "from LBP.GetFeatures import get_features\n",
    "from LBP.GetDistance import get_distance_mtx\n",
    "from LBP.GetScore import get_scores\n",
    "from LBP.GetImages import get_images"
   ]
  },
  {
   "cell_type": "code",
   "execution_count": 2,
   "metadata": {},
   "outputs": [],
   "source": [
    "import LBP"
   ]
  },
  {
   "cell_type": "code",
   "execution_count": 4,
   "metadata": {},
   "outputs": [
    {
     "data": {
      "text/plain": [
       "<module 'LBP.LBP' from '/Users/blazpridgar/Documents/GitHub/IBB-Assignment5/LBP/LBP.py'>"
      ]
     },
     "execution_count": 4,
     "metadata": {},
     "output_type": "execute_result"
    }
   ],
   "source": []
  },
  {
   "attachments": {},
   "cell_type": "markdown",
   "metadata": {},
   "source": [
    "### DETECTION EVALUATION"
   ]
  },
  {
   "cell_type": "code",
   "execution_count": null,
   "metadata": {},
   "outputs": [],
   "source": []
  },
  {
   "attachments": {},
   "cell_type": "markdown",
   "metadata": {},
   "source": [
    "### RECOGNITION ON CROPPED IMAGES"
   ]
  },
  {
   "cell_type": "code",
   "execution_count": 22,
   "metadata": {},
   "outputs": [
    {
     "name": "stderr",
     "output_type": "stream",
     "text": [
      "Reading images... : 100%|██████████| 2120/2120 [00:02<00:00, 970.61it/s] \n"
     ]
    }
   ],
   "source": [
    "type=\"histogram\"\n",
    "method=\"cosine\" \n",
    "radius=5\n",
    "samples=8\n",
    "step=1\n",
    "\n",
    "images = get_images(\"Data_Files/cropped_images/**\")\n",
    "\n"
   ]
  },
  {
   "cell_type": "code",
   "execution_count": 27,
   "metadata": {},
   "outputs": [
    {
     "name": "stderr",
     "output_type": "stream",
     "text": [
      "Extracting features... :   0%|          | 0/942 [00:00<?, ?it/s]\n"
     ]
    },
    {
     "ename": "NameError",
     "evalue": "name 'LBP_histogram' is not defined",
     "output_type": "error",
     "traceback": [
      "\u001b[0;31m---------------------------------------------------------------------------\u001b[0m",
      "\u001b[0;31mNameError\u001b[0m                                 Traceback (most recent call last)",
      "Cell \u001b[0;32mIn[27], line 1\u001b[0m\n\u001b[0;32m----> 1\u001b[0m feature_vectors \u001b[39m=\u001b[39m get_features(images, \u001b[39mtype\u001b[39;49m\u001b[39m=\u001b[39;49m\u001b[39mtype\u001b[39;49m, radius\u001b[39m=\u001b[39;49mradius, samples\u001b[39m=\u001b[39;49msamples, step\u001b[39m=\u001b[39;49mstep)\n\u001b[1;32m      3\u001b[0m \u001b[39m# print size of feature vectors\u001b[39;00m\n\u001b[1;32m      4\u001b[0m \u001b[39mprint\u001b[39m(\u001b[39m\"\u001b[39m\u001b[39mSize of feature vectors:\u001b[39m\u001b[39m\"\u001b[39m, \u001b[39mlen\u001b[39m(feature_vectors))\n",
      "File \u001b[0;32m~/Documents/GitHub/IBB-Assignment5/LBP/GetFeatures.py:33\u001b[0m, in \u001b[0;36mget_features\u001b[0;34m(images, type, radius, samples, step, shifted)\u001b[0m\n\u001b[1;32m     30\u001b[0m \u001b[39mfor\u001b[39;00m image_key \u001b[39min\u001b[39;00m tqdm( images , desc\u001b[39m=\u001b[39m\u001b[39m\"\u001b[39m\u001b[39mExtracting features... \u001b[39m\u001b[39m\"\u001b[39m):\n\u001b[1;32m     32\u001b[0m     \u001b[39mif\u001b[39;00m \u001b[39mtype\u001b[39m \u001b[39m==\u001b[39m \u001b[39m\"\u001b[39m\u001b[39mhistogram\u001b[39m\u001b[39m\"\u001b[39m:\n\u001b[0;32m---> 33\u001b[0m         feature_vector \u001b[39m=\u001b[39m LBP_histogram(images[image_key], shifted, radius, samples)\n\u001b[1;32m     34\u001b[0m     \u001b[39melif\u001b[39;00m \u001b[39mtype\u001b[39m \u001b[39m==\u001b[39m \u001b[39m\"\u001b[39m\u001b[39mbasicLBP\u001b[39m\u001b[39m\"\u001b[39m:\n\u001b[1;32m     35\u001b[0m         \u001b[39mif\u001b[39;00m shifted:\n",
      "\u001b[0;31mNameError\u001b[0m: name 'LBP_histogram' is not defined"
     ]
    }
   ],
   "source": [
    "\n",
    "feature_vectors = get_features(images, type=type, radius=radius, samples=samples, step=step)\n",
    "\n",
    "# print size of feature vectors\n",
    "print(\"Size of feature vectors:\", len(feature_vectors))\n",
    "\n",
    "distanceMtx  = get_distance_mtx(feature_vectors, method=method)\n",
    "accuracy = get_scores(distanceMtx)\n",
    "saveTo = \"Results/recognition_on_cropped.txt\"\n",
    "with open(saveTo, 'w') as f:\n",
    "    f.write(f\"Type of LBP: {type}\\n\")\n",
    "    f.write(f\"Calculating distance with: {method}\\n\")\n",
    "    f.write(f\"radius={radius}, samples={samples} --> Accuracy: {accuracy}\\n\")\n",
    "\n",
    "f.close()"
   ]
  },
  {
   "attachments": {},
   "cell_type": "markdown",
   "metadata": {},
   "source": [
    "### WHOLE PIPELINE"
   ]
  },
  {
   "cell_type": "code",
   "execution_count": null,
   "metadata": {},
   "outputs": [],
   "source": []
  }
 ],
 "metadata": {
  "kernelspec": {
   "display_name": "ibb5",
   "language": "python",
   "name": "python3"
  },
  "language_info": {
   "codemirror_mode": {
    "name": "ipython",
    "version": 3
   },
   "file_extension": ".py",
   "mimetype": "text/x-python",
   "name": "python",
   "nbconvert_exporter": "python",
   "pygments_lexer": "ipython3",
   "version": "3.10.8"
  },
  "orig_nbformat": 4,
  "vscode": {
   "interpreter": {
    "hash": "a5586ff12e810321be3d30c823e68a499c21e4a111abc7a8d2a460eae02ce218"
   }
  }
 },
 "nbformat": 4,
 "nbformat_minor": 2
}
